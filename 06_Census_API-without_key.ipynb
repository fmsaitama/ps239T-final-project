{
 "cells": [
  {
   "cell_type": "markdown",
   "metadata": {},
   "source": [
    "# Accessing US Census Databases via APIs: code\n",
    "* * * * *\n"
   ]
  },
  {
   "cell_type": "code",
   "execution_count": 1,
   "metadata": {
    "collapsed": false
   },
   "outputs": [],
   "source": [
    "# Import required libraries\n",
    "import requests\n",
    "import urllib\n",
    "import json\n",
    "from __future__ import division\n",
    "import math"
   ]
  },
  {
   "cell_type": "markdown",
   "metadata": {},
   "source": [
    "## API GET Request code (the key is hidden) \n"
   ]
  },
  {
   "cell_type": "code",
   "execution_count": 2,
   "metadata": {
    "collapsed": true
   },
   "outputs": [],
   "source": [
    "# Use the US census API\n",
    "\n",
    "# set key\n",
    "key=\"2dff129fcfb9e1af4827127edab7b719cc0436a7\"\n",
    "\n",
    "# set base url; \n",
    "# American Community Servey 5 year data 2014\n",
    "base_url=\"http://api.census.gov/data/2014/acs5?\"\n",
    "\n",
    "# set response format\n",
    "response_format=\".json\""
   ]
  },
  {
   "cell_type": "markdown",
   "metadata": {},
   "source": [
    "# Search parameters \n"
   ]
  },
  {
   "cell_type": "markdown",
   "metadata": {},
   "source": [
    "I needed to go through the IDs of all the variables in the ACS 5 years data to collect the relevant socio-economic indicators. The rough description of the each indicator will appear in the loop code below. As for the detailed descriptions of each ID, please refer to the following page: http://api.census.gov/data/2010/acs5/variables.html"
   ]
  },
  {
   "cell_type": "code",
   "execution_count": 6,
   "metadata": {
    "collapsed": false
   },
   "outputs": [
    {
     "data": {
      "text/plain": [
       "[['NAME',\n",
       "  'B01001_001E',\n",
       "  'B01001H_001E',\n",
       "  'B01001I_001E',\n",
       "  'B01001B_001E',\n",
       "  'B01002_001E',\n",
       "  'B07001_017E',\n",
       "  'B07001_049E',\n",
       "  'B07001_065E',\n",
       "  'B07401_049E',\n",
       "  'B07401_065E',\n",
       "  'B16010_015E',\n",
       "  'B16010_041E',\n",
       "  'B06001_004E',\n",
       "  'B06001_011E',\n",
       "  'B06001_013E',\n",
       "  'B06011_001E',\n",
       "  'B25003_001E',\n",
       "  'B25003_002E',\n",
       "  'B22005C_002E',\n",
       "  'B27011_002E',\n",
       "  'B27011_014E',\n",
       "  'B27011_025E',\n",
       "  'C24050_004E',\n",
       "  'C24050_002E',\n",
       "  'C24050_015E',\n",
       "  'ST',\n",
       "  'COUNTY',\n",
       "  'state',\n",
       "  'county'],\n",
       " ['Autauga County, Alabama',\n",
       "  '55136',\n",
       "  '42033',\n",
       "  '1391',\n",
       "  '10257',\n",
       "  '37.9',\n",
       "  '46299',\n",
       "  '3057',\n",
       "  '2068',\n",
       "  '3224',\n",
       "  '1387',\n",
       "  '12139',\n",
       "  '7950',\n",
       "  '4689',\n",
       "  '4561',\n",
       "  '37521',\n",
       "  '26728',\n",
       "  '20304',\n",
       "  '15248',\n",
       "  '28',\n",
       "  '25952',\n",
       "  '1953',\n",
       "  '14077',\n",
       "  '3194',\n",
       "  '380',\n",
       "  '7802',\n",
       "  '01',\n",
       "  '001',\n",
       "  '01',\n",
       "  '001']]"
      ]
     },
     "execution_count": 6,
     "metadata": {},
     "output_type": "execute_result"
    }
   ],
   "source": [
    "# Set the key, search parameters and geography\n",
    "# \"for\":\"county:*\",\"in\":\"state:*\" means \"for every county in every state\"\n",
    "\n",
    "search_params = {\"key\":key,\n",
    "                 \"get\":\"NAME,B01001_001E,B01001H_001E,B01001I_001E,B01001B_001E,B01002_001E,B07001_017E,B07001_049E,B07001_065E,B07401_049E,B07401_065E,B16010_015E,B16010_041E,B06001_004E,B06001_011E,B06001_013E,B06011_001E,B25003_001E,B25003_002E,B22005C_002E,B27011_002E,B27011_014E,B27011_025E,C24050_004E,C24050_002E,C24050_015E,ST,COUNTY\",\n",
    "                 \"for\":\"county:*\",\"in\":\"state:*\"}    \n",
    "\n",
    "# Request get\n",
    "r = requests.get(base_url, params=search_params)\n",
    "\n",
    "# Read the requested data in json format \n",
    "data=json.loads(r.text)\n",
    "\n",
    "# As you see, the first of the data is the list of variables \n",
    "data[:2]\n"
   ]
  },
  {
   "cell_type": "code",
   "execution_count": 7,
   "metadata": {
    "collapsed": false
   },
   "outputs": [],
   "source": [
    "##  Create a loop to make it into a list of dictionary \n",
    "\n",
    "# Omit the variables for the loop\n",
    "data1=data[1:]\n",
    "\n",
    "# Create a vacant list to fill in\n",
    "formatted = []\n",
    "\n",
    "# Loop for each element of the data1\n",
    "for i in range(len(data1)):\n",
    "    \n",
    "    # Create a void dictionary \n",
    "    dic={}\n",
    "    \n",
    "    # NAME: County, State (str)\n",
    "    dic['CountyState'] = data1[i][0]\n",
    "    \n",
    "    # B01001~ : Population (int)\n",
    "    dic['Population'] = data1[i][1]\n",
    "    dic['White'] = data1[i][2]\n",
    "    dic['Hispanic'] = data1[i][3]\n",
    "    dic['Black'] = data1[i][4]\n",
    "    dic['MedianAge'] = data1[i][5]\n",
    "    \n",
    "    # B07001~ Geographical Mobility in the Past Year by Age for Current Residence (int)\n",
    "    dic['SameHouse'] = data1[i][6]\n",
    "    dic['FromOtherCounty'] = data1[i][7]\n",
    "    dic['FromOtherState'] = data1[i][8]\n",
    "    dic['ToOtherCounty'] = data1[i][9]\n",
    "    dic['ToOtherState'] = data1[i][10]\n",
    "    \n",
    "    # B07401!: Educational background (int)\n",
    "    dic['HighSchool'] = data1[i][11]\n",
    "    dic['Bachelor'] = data1[i][12]\n",
    "    \n",
    "    # BB06001~: Population characteristics (int)\n",
    "    dic['18to24'] = data1[i][13]\n",
    "    dic['65to74'] = data1[i][14]\n",
    "    dic['BornInState'] = data1[i][15]\n",
    "    \n",
    "    # B06011 Median Income (int)\n",
    "    dic['MedianIncome'] = data1[i][16] \n",
    "    \n",
    "    # B25003~: Home ownership status (int)\n",
    "    dic['Tenure'] = data1[i][17]\n",
    "    dic['Owner'] = data1[i][18]\n",
    "    \n",
    "    # B22005~: Recipients of Foodstamp (int)\n",
    "    dic['Foodstamp'] = data1[i][19]\n",
    "    \n",
    "    # B27011~: Employment status (int)\n",
    "    dic['Labor'] = data1[i][20]\n",
    "    dic['Unemployed'] = data1[i][21]\n",
    "    dic['NotInLabor'] = data1[i][22]\n",
    "    \n",
    "    # C24050 Numbers employed in each sector (int)\n",
    "    dic['Manufacture'] = data1[i][23]\n",
    "    dic['Agriculture'] = data1[i][24]\n",
    "    dic['Management'] = data1[i][25]\n",
    "    \n",
    "    # ST: State level FIPS code (int)\n",
    "    dic['state_fips'] = data1[i][26]\n",
    "    \n",
    "    # COUNTY: County level FIPS code (int)\n",
    "    dic['CountyFIPS'] = data1[i][27]\n",
    "    \n",
    "    # Append the dictionary \"formatted\" in each loop\n",
    "    formatted.append(dic)\n",
    "\n",
    "    \n"
   ]
  },
  {
   "cell_type": "code",
   "execution_count": 8,
   "metadata": {
    "collapsed": true
   },
   "outputs": [],
   "source": [
    "# Create some new variables by looping through the new list \"formatted\" \n",
    "\n",
    "for i in range(len(formatted)):\n",
    "    \n",
    "    # Split NAME variable (County, State) into two parts, using split function (str)\n",
    "    formatted[i]['county_name'] = formatted[i]['CountyState'].split(',')[0]\n",
    "    formatted[i]['State'] = formatted[i]['CountyState'].split(',')[1][1:]\n",
    "    \n",
    "    # Create the ratio of each major race from the demography data (float)\n",
    "    formatted[i]['white_r'] = int(formatted[i]['White'])/int(formatted[i]['Population'])\n",
    "    formatted[i]['black_r'] = int(formatted[i]['Black'])/int(formatted[i]['Population'])\n",
    "    formatted[i]['hisp_r'] = int(formatted[i]['Hispanic'])/int(formatted[i]['Population'])\n",
    "    \n",
    "    # Create sectoral employment ratio from sector employmne data and employment status data (float)\n",
    "    formatted[i]['agriculture_r'] = int(formatted[i]['Agriculture'])/int(formatted[i]['Labor'])\n",
    "    formatted[i]['manufacture_r'] = int(formatted[i]['Manufacture'])/int(formatted[i]['Labor'])\n",
    "    formatted[i]['management_r'] = int(formatted[i]['Management'])/int(formatted[i]['Labor'])\n",
    "    \n",
    "    # Create unemployment rate and activity rate from employment status data (float)\n",
    "    formatted[i]['active_r'] = int(formatted[i]['Labor'])/int(formatted[i]['Population'])\n",
    "    formatted[i]['unemp_r'] = int(formatted[i]['Unemployed'])/int(formatted[i]['Population'])\n",
    "    \n",
    "    # Create education related data from education status data and demography data (float)\n",
    "    formatted[i]['highschool_r'] = int(formatted[i]['HighSchool'])/int(formatted[i]['Population'])\n",
    "    formatted[i]['univ_r'] = int(formatted[i]['Bachelor'])/int(formatted[i]['Population'])\n",
    "    \n",
    "    # Create homeownership ratio from homeownership status data (float)\n",
    "    formatted[i]['homeowner_r'] = int(formatted[i]['Owner'])/int(formatted[i]['Tenure'])\n",
    "   "
   ]
  },
  {
   "cell_type": "code",
   "execution_count": 9,
   "metadata": {
    "collapsed": false
   },
   "outputs": [
    {
     "name": "stdout",
     "output_type": "stream",
     "text": [
      "{'ToOtherState': '133', 'Owner': '4372', 'manufacture_r': 0.12373802743981362, 'active_r': 0.43910201761864165, 'county_name': 'Cross County', 'state_fips': '05', 'highschool_r': 0.30986075589656153, 'Manufacture': '956', '65to74': '1693', 'White': '12995', 'MedianIncome': '19490', 'SameHouse': '15474', 'State': 'Arkansas', 'Management': '1640', 'Black': '3943', 'Unemployed': '698', 'Hispanic': '293', 'white_r': 0.738562091503268, 'MedianAge': '40.1', 'NotInLabor': '5329', 'CountyFIPS': '037', 'Bachelor': '1479', 'univ_r': 0.08405797101449275, 'homeowner_r': 0.6352804417320547, 'BornInState': '13104', 'FromOtherCounty': '466', 'Population': '17595', 'unemp_r': 0.039670360897982385, 'management_r': 0.21227025627750454, 'Foodstamp': '0', 'FromOtherState': '170', 'hisp_r': 0.016652458084683148, 'ToOtherCounty': '983', 'Tenure': '6882', 'Agriculture': '538', 'Labor': '7726', '18to24': '1341', 'agriculture_r': 0.06963499870566917, 'HighSchool': '5452', 'CountyState': 'Cross County, Arkansas', 'black_r': 0.2240977550440466}\n",
      "{'ToOtherState': '297', 'Owner': '1875', 'manufacture_r': 0.026432748538011697, 'active_r': 0.584735330324169, 'county_name': 'Lake County', 'state_fips': '08', 'highschool_r': 0.20872657639173847, 'Manufacture': '113', '65to74': '469', 'White': '4906', 'MedianIncome': '33103', 'SameHouse': '5872', 'State': 'Colorado', 'Management': '1256', 'Black': '38', 'Unemployed': '266', 'Hispanic': '2158', 'white_r': 0.6710436328819587, 'MedianAge': '39', 'NotInLabor': '1308', 'CountyFIPS': '065', 'Bachelor': '1535', 'univ_r': 0.20995759813978937, 'homeowner_r': 0.6036703155183516, 'BornInState': '3473', 'FromOtherCounty': '346', 'Population': '7311', 'unemp_r': 0.036383531664614964, 'management_r': 0.2938011695906433, 'Foodstamp': '0', 'FromOtherState': '469', 'hisp_r': 0.295171659143756, 'ToOtherCounty': '426', 'Tenure': '3106', 'Agriculture': '158', 'Labor': '4275', '18to24': '577', 'agriculture_r': 0.03695906432748538, 'HighSchool': '1526', 'CountyState': 'Lake County, Colorado', 'black_r': 0.005197647380659281}\n",
      "{'ToOtherState': '126', 'Owner': '6419', 'manufacture_r': 0.051568894952251025, 'active_r': 0.4063643419447832, 'county_name': 'Baker County', 'state_fips': '12', 'highschool_r': 0.2950437964297594, 'Manufacture': '567', '65to74': '2023', 'White': '22246', 'MedianIncome': '25389', 'SameHouse': '22753', 'State': 'Florida', 'Management': '2940', 'Black': '3849', 'Unemployed': '1033', 'Hispanic': '598', 'white_r': 0.8221901910780944, 'MedianAge': '36.3', 'NotInLabor': '6872', 'CountyFIPS': '003', 'Bachelor': '1908', 'univ_r': 0.07051779576449717, 'homeowner_r': 0.768650461022632, 'BornInState': '19083', 'FromOtherCounty': '1837', 'Population': '27057', 'unemp_r': 0.03817865986620837, 'management_r': 0.2673942701227831, 'Foodstamp': '0', 'FromOtherState': '373', 'hisp_r': 0.022101489448201943, 'ToOtherCounty': '1270', 'Tenure': '8351', 'Agriculture': '89', 'Labor': '10995', '18to24': '2652', 'agriculture_r': 0.008094588449295134, 'HighSchool': '7983', 'CountyState': 'Baker County, Florida', 'black_r': 0.14225523894001552}\n"
     ]
    }
   ],
   "source": [
    "# Test \n",
    "print(formatted[129])\n",
    "print(formatted[277])\n",
    "print(formatted[321])"
   ]
  },
  {
   "cell_type": "code",
   "execution_count": 11,
   "metadata": {
    "collapsed": true
   },
   "outputs": [],
   "source": [
    "# Create a CSV file\n",
    "\n",
    "import csv\n",
    "\n",
    "# Retrieve the key from \"formatted\"\n",
    "keys = formatted[1].keys()\n",
    "\n",
    "# Write the csv with keys in the column and formatted data in rows\n",
    "with open('census2014.csv', 'w') as output_file:\n",
    "    dict_writer = csv.DictWriter(output_file, keys)\n",
    "    dict_writer.writeheader()\n",
    "    dict_writer.writerows(formatted)"
   ]
  },
  {
   "cell_type": "code",
   "execution_count": 13,
   "metadata": {
    "collapsed": false
   },
   "outputs": [
    {
     "name": "stdout",
     "output_type": "stream",
     "text": [
      "{'FromOtherCounty10': '353', 'ToOtherState10': '507', 'highschool_r10': 0.27992724867724866, '65to74_10': '1357', 'county_name': 'Cross County', 'state_fips': '05', 'HighSchool10': '5079', 'CountyFIPS': '037', 'Black10': '4164', 'Population10': '18144', 'black_r10': 0.2294973544973545, 'State10': 'Arkansas', 'BornInState10': '13386', 'Agriculture10': '579', 'Management10': '1939', 'MedianAge10': '38.4', 'Tenure10': '6638', 'hisp_r10': 0.013723544973544973, 'Bachelor10': '1506', 'SameHouse10': '15433', 'Hispanic10': '249', 'White10': '13478', 'ToOtherCounty10': '783', 'univ_r10': 0.08300264550264551, 'CountyState10': 'Cross County, Arkansas', 'Owner10': '4690', 'MedianIncome10': '19288', 'homeowner_r10': 0.7065381138897259, 'FromOtherState10': '312', 'Manufacture10': '770', 'white_r10': 0.7428350970017636, '18to24_10': '1473', 'Foodstamp10': '6'}\n",
      "{'FromOtherCounty10': '450', 'ToOtherState10': '184', 'highschool_r10': 0.15229435999431737, '65to74_10': '309', 'county_name': 'Lake County', 'state_fips': '08', 'HighSchool10': '1072', 'CountyFIPS': '065', 'Black10': '91', 'Population10': '7039', 'black_r10': 0.01292797272339821, 'State10': 'Colorado', 'BornInState10': '3104', 'Agriculture10': '50', 'Management10': '896', 'MedianAge10': '34.6', 'Tenure10': '2725', 'hisp_r10': 0.39096462565705353, 'Bachelor10': '982', 'SameHouse10': '5475', 'Hispanic10': '2752', 'White10': '3982', 'ToOtherCounty10': '794', 'univ_r10': 0.13950845290524222, 'CountyState10': 'Lake County, Colorado', 'Owner10': '1824', 'MedianIncome10': '22212', 'homeowner_r10': 0.6693577981651376, 'FromOtherState10': '302', 'Manufacture10': '213', 'white_r10': 0.565705355874414, '18to24_10': '511', 'Foodstamp10': '0'}\n",
      "{'FromOtherCounty10': '1770', 'ToOtherState10': '255', 'highschool_r10': 0.3147883079704686, '65to74_10': '1678', 'county_name': 'Baker County', 'state_fips': '12', 'HighSchool10': '8357', 'CountyFIPS': '003', 'Black10': '3515', 'Population10': '26548', 'black_r10': 0.13240168750941692, 'State10': 'Florida', 'BornInState10': '18612', 'Agriculture10': '156', 'Management10': '2641', 'MedianAge10': '36.1', 'Tenure10': '8309', 'hisp_r10': 0.02188488775048968, 'Bachelor10': '1055', 'SameHouse10': '22519', 'Hispanic10': '581', 'White10': '21871', 'ToOtherCounty10': '1032', 'univ_r10': 0.0397393400632816, 'CountyState10': 'Baker County, Florida', 'Owner10': '6334', 'MedianIncome10': '23061', 'homeowner_r10': 0.7623059333253099, 'FromOtherState10': '440', 'Manufacture10': '476', 'white_r10': 0.8238285369896038, '18to24_10': '2662', 'Foodstamp10': '0'}\n"
     ]
    }
   ],
   "source": [
    "# Repeat the same procedure in 2010 data \n",
    "\n",
    "key=\"***************************\"\n",
    "\n",
    "base_url=\"http://api.census.gov/data/2010/acs5?\"\n",
    "\n",
    "response_format=\".json\"\n",
    "\n",
    "# Seletct the corresponding variables\n",
    "\n",
    "search_params = {\"key\":key,\n",
    "                 \"get\":\"NAME,B01001_001E,B01001H_001E,B01001I_001E,B01001B_001E,B01002_001E,B07001_017E,B07001_049E,B07001_065E,B07401_049E,B07401_065E,B16010_015E,B16010_041E,B06001_004E,B06001_011E,B06001_013E,B06011_001E,B25003_001E,B25003_002E,B22005C_002E,C24050_004E,C24050_002E,C24050_015E,ST,COUNTY\",\n",
    "                 \"for\":\"county:*\",\"in\":\"state:*\"}    \n",
    "\n",
    "r = requests.get(base_url, params=search_params)\n",
    "\n",
    "data=json.loads(r.text)\n",
    "\n",
    "data1=data[1:]\n",
    "\n",
    "# Use different variable names (variable + \"10\") so that it can be combined later\n",
    "\n",
    "formatted = []\n",
    "for i in range(len(data1)):\n",
    "    dic={}\n",
    "    dic['CountyState10'] = data1[i][0]\n",
    "    dic['Population10'] = data1[i][1]\n",
    "    dic['White10'] = data1[i][2]\n",
    "    dic['Hispanic10'] = data1[i][3]\n",
    "    dic['Black10'] = data1[i][4]\n",
    "    dic['MedianAge10'] = data1[i][5]\n",
    "    dic['SameHouse10'] = data1[i][6]\n",
    "    dic['FromOtherCounty10'] = data1[i][7]\n",
    "    dic['FromOtherState10'] = data1[i][8]\n",
    "    dic['ToOtherCounty10'] = data1[i][9]\n",
    "    dic['ToOtherState10'] = data1[i][10]\n",
    "    dic['HighSchool10'] = data1[i][11]\n",
    "    dic['Bachelor10'] = data1[i][12]\n",
    "    dic['18to24_10'] = data1[i][13]\n",
    "    dic['65to74_10'] = data1[i][14]\n",
    "    dic['BornInState10'] = data1[i][15]\n",
    "    dic['MedianIncome10'] = data1[i][16] \n",
    "    dic['Tenure10'] = data1[i][17]\n",
    "    dic['Owner10'] = data1[i][18]\n",
    "    dic['Foodstamp10'] = data1[i][19]\n",
    "    dic['Manufacture10'] = data1[i][20]\n",
    "    dic['Agriculture10'] = data1[i][21]\n",
    "    dic['Management10'] = data1[i][22]\n",
    "    dic['state_fips'] = data1[i][23]\n",
    "    dic['CountyFIPS'] = data1[i][24]\n",
    "    formatted.append(dic)\n",
    "\n",
    "for i in range(len(formatted)):\n",
    "    formatted[i]['county_name'] = formatted[i]['CountyState10'].split(',')[0]\n",
    "    formatted[i]['State10'] = formatted[i]['CountyState10'].split(',')[1][1:]\n",
    "    formatted[i]['white_r10'] = int(formatted[i]['White10'])/int(formatted[i]['Population10'])\n",
    "    formatted[i]['black_r10'] = int(formatted[i]['Black10'])/int(formatted[i]['Population10'])\n",
    "    formatted[i]['hisp_r10'] = int(formatted[i]['Hispanic10'])/int(formatted[i]['Population10'])\n",
    "    formatted[i]['highschool_r10'] = int(formatted[i]['HighSchool10'])/int(formatted[i]['Population10'])\n",
    "    formatted[i]['univ_r10'] = int(formatted[i]['Bachelor10'])/int(formatted[i]['Population10'])\n",
    "    formatted[i]['homeowner_r10'] = int(formatted[i]['Owner10'])/int(formatted[i]['Tenure10'])\n",
    "   \n",
    "  \n",
    "import csv\n",
    "keys = formatted[1].keys()\n",
    "\n",
    "#writing the csv file with slightly different name \n",
    "with open('census2010.csv', 'w') as output_file:\n",
    "    dict_writer = csv.DictWriter(output_file, keys)\n",
    "    dict_writer.writeheader()\n",
    "    dict_writer.writerows(formatted)\n",
    "    \n",
    "print(formatted[129])\n",
    "print(formatted[277])\n",
    "print(formatted[321])"
   ]
  },
  {
   "cell_type": "code",
   "execution_count": null,
   "metadata": {
    "collapsed": true
   },
   "outputs": [],
   "source": []
  }
 ],
 "metadata": {
  "anaconda-cloud": {},
  "kernelspec": {
   "display_name": "Python [Root]",
   "language": "python",
   "name": "Python [Root]"
  },
  "language_info": {
   "codemirror_mode": {
    "name": "ipython",
    "version": 3
   },
   "file_extension": ".py",
   "mimetype": "text/x-python",
   "name": "python",
   "nbconvert_exporter": "python",
   "pygments_lexer": "ipython3",
   "version": "3.5.2"
  }
 },
 "nbformat": 4,
 "nbformat_minor": 0
}
